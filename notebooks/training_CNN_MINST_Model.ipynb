{
 "cells": [
  {
   "metadata": {
    "ExecuteTime": {
     "end_time": "2024-04-25T15:05:31.804388Z",
     "start_time": "2024-04-25T15:05:29.092884Z"
    }
   },
   "cell_type": "code",
   "source": [
    "import torch\n",
    "import torch.nn as nn\n",
    "import torch.nn.functional as F\n",
    "import torch.optim as optim\n",
    "from torchvision import datasets, transforms"
   ],
   "id": "9e2d63c4f2c8b9e2",
   "outputs": [],
   "execution_count": 3
  },
  {
   "metadata": {
    "ExecuteTime": {
     "end_time": "2024-04-25T15:05:33.756626Z",
     "start_time": "2024-04-25T15:05:33.753325Z"
    }
   },
   "cell_type": "code",
   "source": [
    "# Define the transformations for the dataset\n",
    "transform = transforms.Compose([\n",
    "    transforms.ToTensor(),\n",
    "    transforms.Normalize((0.1307,), (0.3081,))\n",
    "])"
   ],
   "id": "f0bef36c6c90e3d2",
   "outputs": [],
   "execution_count": 4
  },
  {
   "metadata": {
    "ExecuteTime": {
     "end_time": "2024-04-25T15:05:36.143940Z",
     "start_time": "2024-04-25T15:05:35.978827Z"
    }
   },
   "cell_type": "code",
   "source": [
    "# Load the MNIST dataset\n",
    "train_dataset = datasets.MNIST(root='./data', train=True, download=True, transform=transform)\n",
    "test_dataset = datasets.MNIST(root='./data', train=False, download=True, transform=transform)\n",
    "\n",
    "# Create data loaders\n",
    "batch_size = 64\n",
    "train_loader = torch.utils.data.DataLoader(train_dataset, batch_size=batch_size, shuffle=True)\n",
    "test_loader = torch.utils.data.DataLoader(test_dataset, batch_size=batch_size, shuffle=False)"
   ],
   "id": "205082fb8e262f07",
   "outputs": [],
   "execution_count": 5
  },
  {
   "cell_type": "code",
   "id": "initial_id",
   "metadata": {
    "collapsed": true,
    "ExecuteTime": {
     "end_time": "2024-04-25T15:06:07.998765Z",
     "start_time": "2024-04-25T15:06:07.994023Z"
    }
   },
   "source": [
    "\n",
    "# Define the CNN model\n",
    "class Net(nn.Module):\n",
    "    def __init__(self):\n",
    "        super(Net, self).__init__()\n",
    "        self.conv1 = nn.Conv2d(1, 10, kernel_size=5)\n",
    "        self.conv2 = nn.Conv2d(10, 20, kernel_size=5)\n",
    "        self.conv2_drop = nn.Dropout2d()\n",
    "        self.fc1 = nn.Linear(320, 50)\n",
    "        self.fc2 = nn.Linear(50, 10)\n",
    "\n",
    "    def forward(self, x):\n",
    "        x = F.relu(F.max_pool2d(self.conv1(x), 2))\n",
    "        x = F.relu(F.max_pool2d(self.conv2_drop(self.conv2(x)), 2))\n",
    "        x = x.view(-1, 320)\n",
    "        x = F.relu(self.fc1(x))\n",
    "        x = F.dropout(x, training=self.training)\n",
    "        x = self.fc2(x)\n",
    "        return F.log_softmax(x, dim=1)\n"
   ],
   "outputs": [],
   "execution_count": 7
  },
  {
   "metadata": {
    "ExecuteTime": {
     "end_time": "2024-04-25T15:06:09.880711Z",
     "start_time": "2024-04-25T15:06:09.874700Z"
    }
   },
   "cell_type": "code",
   "source": [
    "# Initialize the model, loss function, and optimizer\n",
    "model = Net()\n",
    "criterion = nn.NLLLoss()\n",
    "optimizer = optim.SGD(model.parameters(), lr=0.01, momentum=0.5)"
   ],
   "id": "318c494e506867e9",
   "outputs": [],
   "execution_count": 8
  },
  {
   "metadata": {
    "ExecuteTime": {
     "end_time": "2024-04-25T15:11:42.563614Z",
     "start_time": "2024-04-25T15:06:29.892639Z"
    }
   },
   "cell_type": "code",
   "source": [
    "# Training loop\n",
    "epochs = 20\n",
    "for epoch in range(epochs):\n",
    "    train_loss = 0.0\n",
    "    for batch_idx, (data, target) in enumerate(train_loader):\n",
    "        optimizer.zero_grad()\n",
    "        output = model(data)\n",
    "        loss = criterion(output, target)\n",
    "        loss.backward()\n",
    "        optimizer.step()\n",
    "        train_loss += loss.item()\n",
    "        if batch_idx % 100 == 0:\n",
    "            print('Train Epoch: {} [{}/{} ({:.0f}%)]\\tLoss: {:.6f}'.format(\n",
    "                epoch, batch_idx * len(data), len(train_loader.dataset),\n",
    "                100. * batch_idx / len(train_loader), loss.item()))\n",
    "\n",
    "    # Evaluate the model on the test set\n",
    "    test_loss = 0\n",
    "    correct = 0\n",
    "    with torch.no_grad():\n",
    "        for data, target in test_loader:\n",
    "            output = model(data)\n",
    "            test_loss += criterion(output, target).item()\n",
    "            pred = output.max(1, keepdim=True)[1]\n",
    "            correct += pred.eq(target.view_as(pred)).sum().item()\n",
    "\n",
    "    test_loss /= len(test_loader.dataset)\n",
    "    print('\\nTest set: Average loss: {:.4f}, Accuracy: {}/{} ({:.0f}%)\\n'.format(\n",
    "        test_loss, correct, len(test_loader.dataset),\n",
    "        100. * correct / len(test_loader.dataset)))"
   ],
   "id": "c95cb230932792c3",
   "outputs": [
    {
     "name": "stdout",
     "output_type": "stream",
     "text": [
      "Train Epoch: 0 [0/60000 (0%)]\tLoss: 2.305083\n",
      "Train Epoch: 0 [6400/60000 (11%)]\tLoss: 2.066874\n",
      "Train Epoch: 0 [12800/60000 (21%)]\tLoss: 1.202447\n",
      "Train Epoch: 0 [19200/60000 (32%)]\tLoss: 0.859650\n",
      "Train Epoch: 0 [25600/60000 (43%)]\tLoss: 0.620759\n",
      "Train Epoch: 0 [32000/60000 (53%)]\tLoss: 0.604370\n",
      "Train Epoch: 0 [38400/60000 (64%)]\tLoss: 0.408067\n",
      "Train Epoch: 0 [44800/60000 (75%)]\tLoss: 0.636145\n",
      "Train Epoch: 0 [51200/60000 (85%)]\tLoss: 0.299043\n",
      "Train Epoch: 0 [57600/60000 (96%)]\tLoss: 0.342429\n",
      "\n",
      "Test set: Average loss: 0.0068, Accuracy: 8678/10000 (87%)\n",
      "\n",
      "Train Epoch: 1 [0/60000 (0%)]\tLoss: 0.472966\n",
      "Train Epoch: 1 [6400/60000 (11%)]\tLoss: 0.530294\n",
      "Train Epoch: 1 [12800/60000 (21%)]\tLoss: 0.323493\n",
      "Train Epoch: 1 [19200/60000 (32%)]\tLoss: 0.447163\n",
      "Train Epoch: 1 [25600/60000 (43%)]\tLoss: 0.327458\n",
      "Train Epoch: 1 [32000/60000 (53%)]\tLoss: 0.468496\n",
      "Train Epoch: 1 [38400/60000 (64%)]\tLoss: 0.248601\n",
      "Train Epoch: 1 [44800/60000 (75%)]\tLoss: 0.453548\n",
      "Train Epoch: 1 [51200/60000 (85%)]\tLoss: 0.233750\n",
      "Train Epoch: 1 [57600/60000 (96%)]\tLoss: 0.396495\n",
      "\n",
      "Test set: Average loss: 0.0048, Accuracy: 9099/10000 (91%)\n",
      "\n",
      "Train Epoch: 2 [0/60000 (0%)]\tLoss: 0.569271\n",
      "Train Epoch: 2 [6400/60000 (11%)]\tLoss: 0.201449\n",
      "Train Epoch: 2 [12800/60000 (21%)]\tLoss: 0.489971\n",
      "Train Epoch: 2 [19200/60000 (32%)]\tLoss: 0.320161\n",
      "Train Epoch: 2 [25600/60000 (43%)]\tLoss: 0.162128\n",
      "Train Epoch: 2 [32000/60000 (53%)]\tLoss: 0.170493\n",
      "Train Epoch: 2 [38400/60000 (64%)]\tLoss: 0.320317\n",
      "Train Epoch: 2 [44800/60000 (75%)]\tLoss: 0.321654\n",
      "Train Epoch: 2 [51200/60000 (85%)]\tLoss: 0.217788\n",
      "Train Epoch: 2 [57600/60000 (96%)]\tLoss: 0.212612\n",
      "\n",
      "Test set: Average loss: 0.0040, Accuracy: 9186/10000 (92%)\n",
      "\n",
      "Train Epoch: 3 [0/60000 (0%)]\tLoss: 0.232004\n",
      "Train Epoch: 3 [6400/60000 (11%)]\tLoss: 0.213436\n",
      "Train Epoch: 3 [12800/60000 (21%)]\tLoss: 0.206164\n",
      "Train Epoch: 3 [19200/60000 (32%)]\tLoss: 0.237538\n",
      "Train Epoch: 3 [25600/60000 (43%)]\tLoss: 0.582870\n",
      "Train Epoch: 3 [32000/60000 (53%)]\tLoss: 0.131124\n",
      "Train Epoch: 3 [38400/60000 (64%)]\tLoss: 0.345035\n",
      "Train Epoch: 3 [44800/60000 (75%)]\tLoss: 0.163952\n",
      "Train Epoch: 3 [51200/60000 (85%)]\tLoss: 0.155917\n",
      "Train Epoch: 3 [57600/60000 (96%)]\tLoss: 0.291331\n",
      "\n",
      "Test set: Average loss: 0.0037, Accuracy: 9289/10000 (93%)\n",
      "\n",
      "Train Epoch: 4 [0/60000 (0%)]\tLoss: 0.149061\n",
      "Train Epoch: 4 [6400/60000 (11%)]\tLoss: 0.248066\n",
      "Train Epoch: 4 [12800/60000 (21%)]\tLoss: 0.388753\n",
      "Train Epoch: 4 [19200/60000 (32%)]\tLoss: 0.183637\n",
      "Train Epoch: 4 [25600/60000 (43%)]\tLoss: 0.276991\n",
      "Train Epoch: 4 [32000/60000 (53%)]\tLoss: 0.429593\n",
      "Train Epoch: 4 [38400/60000 (64%)]\tLoss: 0.179620\n",
      "Train Epoch: 4 [44800/60000 (75%)]\tLoss: 0.235344\n",
      "Train Epoch: 4 [51200/60000 (85%)]\tLoss: 0.150801\n",
      "Train Epoch: 4 [57600/60000 (96%)]\tLoss: 0.210139\n",
      "\n",
      "Test set: Average loss: 0.0033, Accuracy: 9366/10000 (94%)\n",
      "\n",
      "Train Epoch: 5 [0/60000 (0%)]\tLoss: 0.260599\n",
      "Train Epoch: 5 [6400/60000 (11%)]\tLoss: 0.075501\n",
      "Train Epoch: 5 [12800/60000 (21%)]\tLoss: 0.144875\n",
      "Train Epoch: 5 [19200/60000 (32%)]\tLoss: 0.217586\n",
      "Train Epoch: 5 [25600/60000 (43%)]\tLoss: 0.259575\n",
      "Train Epoch: 5 [32000/60000 (53%)]\tLoss: 0.183676\n",
      "Train Epoch: 5 [38400/60000 (64%)]\tLoss: 0.342645\n",
      "Train Epoch: 5 [44800/60000 (75%)]\tLoss: 0.367633\n",
      "Train Epoch: 5 [51200/60000 (85%)]\tLoss: 0.112506\n",
      "Train Epoch: 5 [57600/60000 (96%)]\tLoss: 0.249434\n",
      "\n",
      "Test set: Average loss: 0.0031, Accuracy: 9407/10000 (94%)\n",
      "\n",
      "Train Epoch: 6 [0/60000 (0%)]\tLoss: 0.187534\n",
      "Train Epoch: 6 [6400/60000 (11%)]\tLoss: 0.124707\n",
      "Train Epoch: 6 [12800/60000 (21%)]\tLoss: 0.199529\n",
      "Train Epoch: 6 [19200/60000 (32%)]\tLoss: 0.080419\n",
      "Train Epoch: 6 [25600/60000 (43%)]\tLoss: 0.115568\n",
      "Train Epoch: 6 [32000/60000 (53%)]\tLoss: 0.184680\n",
      "Train Epoch: 6 [38400/60000 (64%)]\tLoss: 0.094355\n",
      "Train Epoch: 6 [44800/60000 (75%)]\tLoss: 0.103381\n",
      "Train Epoch: 6 [51200/60000 (85%)]\tLoss: 0.137591\n",
      "Train Epoch: 6 [57600/60000 (96%)]\tLoss: 0.134177\n",
      "\n",
      "Test set: Average loss: 0.0028, Accuracy: 9473/10000 (95%)\n",
      "\n",
      "Train Epoch: 7 [0/60000 (0%)]\tLoss: 0.059397\n",
      "Train Epoch: 7 [6400/60000 (11%)]\tLoss: 0.168339\n",
      "Train Epoch: 7 [12800/60000 (21%)]\tLoss: 0.321299\n",
      "Train Epoch: 7 [19200/60000 (32%)]\tLoss: 0.140710\n",
      "Train Epoch: 7 [25600/60000 (43%)]\tLoss: 0.112142\n",
      "Train Epoch: 7 [32000/60000 (53%)]\tLoss: 0.219577\n",
      "Train Epoch: 7 [38400/60000 (64%)]\tLoss: 0.350256\n",
      "Train Epoch: 7 [44800/60000 (75%)]\tLoss: 0.171179\n",
      "Train Epoch: 7 [51200/60000 (85%)]\tLoss: 0.372558\n",
      "Train Epoch: 7 [57600/60000 (96%)]\tLoss: 0.249870\n",
      "\n",
      "Test set: Average loss: 0.0026, Accuracy: 9499/10000 (95%)\n",
      "\n",
      "Train Epoch: 8 [0/60000 (0%)]\tLoss: 0.262043\n",
      "Train Epoch: 8 [6400/60000 (11%)]\tLoss: 0.330689\n",
      "Train Epoch: 8 [12800/60000 (21%)]\tLoss: 0.141076\n",
      "Train Epoch: 8 [19200/60000 (32%)]\tLoss: 0.111902\n",
      "Train Epoch: 8 [25600/60000 (43%)]\tLoss: 0.062071\n",
      "Train Epoch: 8 [32000/60000 (53%)]\tLoss: 0.210599\n",
      "Train Epoch: 8 [38400/60000 (64%)]\tLoss: 0.059614\n",
      "Train Epoch: 8 [44800/60000 (75%)]\tLoss: 0.144618\n",
      "Train Epoch: 8 [51200/60000 (85%)]\tLoss: 0.112798\n",
      "Train Epoch: 8 [57600/60000 (96%)]\tLoss: 0.152131\n",
      "\n",
      "Test set: Average loss: 0.0027, Accuracy: 9469/10000 (95%)\n",
      "\n",
      "Train Epoch: 9 [0/60000 (0%)]\tLoss: 0.091380\n",
      "Train Epoch: 9 [6400/60000 (11%)]\tLoss: 0.176401\n",
      "Train Epoch: 9 [12800/60000 (21%)]\tLoss: 0.114443\n",
      "Train Epoch: 9 [19200/60000 (32%)]\tLoss: 0.148931\n",
      "Train Epoch: 9 [25600/60000 (43%)]\tLoss: 0.104809\n",
      "Train Epoch: 9 [32000/60000 (53%)]\tLoss: 0.219117\n",
      "Train Epoch: 9 [38400/60000 (64%)]\tLoss: 0.214239\n",
      "Train Epoch: 9 [44800/60000 (75%)]\tLoss: 0.239235\n",
      "Train Epoch: 9 [51200/60000 (85%)]\tLoss: 0.091092\n",
      "Train Epoch: 9 [57600/60000 (96%)]\tLoss: 0.396832\n",
      "\n",
      "Test set: Average loss: 0.0026, Accuracy: 9500/10000 (95%)\n",
      "\n",
      "Train Epoch: 10 [0/60000 (0%)]\tLoss: 0.143733\n",
      "Train Epoch: 10 [6400/60000 (11%)]\tLoss: 0.076381\n",
      "Train Epoch: 10 [12800/60000 (21%)]\tLoss: 0.064211\n",
      "Train Epoch: 10 [19200/60000 (32%)]\tLoss: 0.294171\n",
      "Train Epoch: 10 [25600/60000 (43%)]\tLoss: 0.107435\n",
      "Train Epoch: 10 [32000/60000 (53%)]\tLoss: 0.139101\n",
      "Train Epoch: 10 [38400/60000 (64%)]\tLoss: 0.265435\n",
      "Train Epoch: 10 [44800/60000 (75%)]\tLoss: 0.380466\n",
      "Train Epoch: 10 [51200/60000 (85%)]\tLoss: 0.154979\n",
      "Train Epoch: 10 [57600/60000 (96%)]\tLoss: 0.065216\n",
      "\n",
      "Test set: Average loss: 0.0025, Accuracy: 9505/10000 (95%)\n",
      "\n",
      "Train Epoch: 11 [0/60000 (0%)]\tLoss: 0.248327\n",
      "Train Epoch: 11 [6400/60000 (11%)]\tLoss: 0.220613\n",
      "Train Epoch: 11 [12800/60000 (21%)]\tLoss: 0.139642\n",
      "Train Epoch: 11 [19200/60000 (32%)]\tLoss: 0.143068\n",
      "Train Epoch: 11 [25600/60000 (43%)]\tLoss: 0.068773\n",
      "Train Epoch: 11 [32000/60000 (53%)]\tLoss: 0.132770\n",
      "Train Epoch: 11 [38400/60000 (64%)]\tLoss: 0.179989\n",
      "Train Epoch: 11 [44800/60000 (75%)]\tLoss: 0.149817\n",
      "Train Epoch: 11 [51200/60000 (85%)]\tLoss: 0.086754\n",
      "Train Epoch: 11 [57600/60000 (96%)]\tLoss: 0.322141\n",
      "\n",
      "Test set: Average loss: 0.0023, Accuracy: 9564/10000 (96%)\n",
      "\n",
      "Train Epoch: 12 [0/60000 (0%)]\tLoss: 0.103856\n",
      "Train Epoch: 12 [6400/60000 (11%)]\tLoss: 0.163739\n",
      "Train Epoch: 12 [12800/60000 (21%)]\tLoss: 0.237512\n",
      "Train Epoch: 12 [19200/60000 (32%)]\tLoss: 0.341047\n",
      "Train Epoch: 12 [25600/60000 (43%)]\tLoss: 0.158121\n",
      "Train Epoch: 12 [32000/60000 (53%)]\tLoss: 0.114399\n",
      "Train Epoch: 12 [38400/60000 (64%)]\tLoss: 0.088335\n",
      "Train Epoch: 12 [44800/60000 (75%)]\tLoss: 0.214935\n",
      "Train Epoch: 12 [51200/60000 (85%)]\tLoss: 0.198108\n",
      "Train Epoch: 12 [57600/60000 (96%)]\tLoss: 0.064188\n",
      "\n",
      "Test set: Average loss: 0.0023, Accuracy: 9569/10000 (96%)\n",
      "\n",
      "Train Epoch: 13 [0/60000 (0%)]\tLoss: 0.061450\n",
      "Train Epoch: 13 [6400/60000 (11%)]\tLoss: 0.148961\n",
      "Train Epoch: 13 [12800/60000 (21%)]\tLoss: 0.038828\n",
      "Train Epoch: 13 [19200/60000 (32%)]\tLoss: 0.245670\n",
      "Train Epoch: 13 [25600/60000 (43%)]\tLoss: 0.096469\n",
      "Train Epoch: 13 [32000/60000 (53%)]\tLoss: 0.125583\n",
      "Train Epoch: 13 [38400/60000 (64%)]\tLoss: 0.144901\n",
      "Train Epoch: 13 [44800/60000 (75%)]\tLoss: 0.111286\n",
      "Train Epoch: 13 [51200/60000 (85%)]\tLoss: 0.020400\n",
      "Train Epoch: 13 [57600/60000 (96%)]\tLoss: 0.315460\n",
      "\n",
      "Test set: Average loss: 0.0023, Accuracy: 9573/10000 (96%)\n",
      "\n",
      "Train Epoch: 14 [0/60000 (0%)]\tLoss: 0.108661\n",
      "Train Epoch: 14 [6400/60000 (11%)]\tLoss: 0.228749\n",
      "Train Epoch: 14 [12800/60000 (21%)]\tLoss: 0.210282\n",
      "Train Epoch: 14 [19200/60000 (32%)]\tLoss: 0.140518\n",
      "Train Epoch: 14 [25600/60000 (43%)]\tLoss: 0.168289\n",
      "Train Epoch: 14 [32000/60000 (53%)]\tLoss: 0.109668\n",
      "Train Epoch: 14 [38400/60000 (64%)]\tLoss: 0.165532\n",
      "Train Epoch: 14 [44800/60000 (75%)]\tLoss: 0.211699\n",
      "Train Epoch: 14 [51200/60000 (85%)]\tLoss: 0.058313\n",
      "Train Epoch: 14 [57600/60000 (96%)]\tLoss: 0.182213\n",
      "\n",
      "Test set: Average loss: 0.0024, Accuracy: 9565/10000 (96%)\n",
      "\n",
      "Train Epoch: 15 [0/60000 (0%)]\tLoss: 0.228011\n",
      "Train Epoch: 15 [6400/60000 (11%)]\tLoss: 0.081858\n",
      "Train Epoch: 15 [12800/60000 (21%)]\tLoss: 0.124910\n",
      "Train Epoch: 15 [19200/60000 (32%)]\tLoss: 0.068006\n",
      "Train Epoch: 15 [25600/60000 (43%)]\tLoss: 0.187253\n",
      "Train Epoch: 15 [32000/60000 (53%)]\tLoss: 0.462720\n",
      "Train Epoch: 15 [38400/60000 (64%)]\tLoss: 0.190986\n",
      "Train Epoch: 15 [44800/60000 (75%)]\tLoss: 0.108870\n",
      "Train Epoch: 15 [51200/60000 (85%)]\tLoss: 0.135377\n",
      "Train Epoch: 15 [57600/60000 (96%)]\tLoss: 0.131269\n",
      "\n",
      "Test set: Average loss: 0.0022, Accuracy: 9574/10000 (96%)\n",
      "\n",
      "Train Epoch: 16 [0/60000 (0%)]\tLoss: 0.372670\n",
      "Train Epoch: 16 [6400/60000 (11%)]\tLoss: 0.250868\n",
      "Train Epoch: 16 [12800/60000 (21%)]\tLoss: 0.072598\n",
      "Train Epoch: 16 [19200/60000 (32%)]\tLoss: 0.126130\n",
      "Train Epoch: 16 [25600/60000 (43%)]\tLoss: 0.095245\n",
      "Train Epoch: 16 [32000/60000 (53%)]\tLoss: 0.229133\n",
      "Train Epoch: 16 [38400/60000 (64%)]\tLoss: 0.069800\n",
      "Train Epoch: 16 [44800/60000 (75%)]\tLoss: 0.148504\n",
      "Train Epoch: 16 [51200/60000 (85%)]\tLoss: 0.196714\n",
      "Train Epoch: 16 [57600/60000 (96%)]\tLoss: 0.071633\n",
      "\n",
      "Test set: Average loss: 0.0020, Accuracy: 9608/10000 (96%)\n",
      "\n",
      "Train Epoch: 17 [0/60000 (0%)]\tLoss: 0.192008\n",
      "Train Epoch: 17 [6400/60000 (11%)]\tLoss: 0.111814\n",
      "Train Epoch: 17 [12800/60000 (21%)]\tLoss: 0.061758\n",
      "Train Epoch: 17 [19200/60000 (32%)]\tLoss: 0.534366\n",
      "Train Epoch: 17 [25600/60000 (43%)]\tLoss: 0.166968\n",
      "Train Epoch: 17 [32000/60000 (53%)]\tLoss: 0.107524\n",
      "Train Epoch: 17 [38400/60000 (64%)]\tLoss: 0.075647\n",
      "Train Epoch: 17 [44800/60000 (75%)]\tLoss: 0.044637\n",
      "Train Epoch: 17 [51200/60000 (85%)]\tLoss: 0.230306\n",
      "Train Epoch: 17 [57600/60000 (96%)]\tLoss: 0.040919\n",
      "\n",
      "Test set: Average loss: 0.0022, Accuracy: 9579/10000 (96%)\n",
      "\n",
      "Train Epoch: 18 [0/60000 (0%)]\tLoss: 0.111965\n",
      "Train Epoch: 18 [6400/60000 (11%)]\tLoss: 0.080569\n",
      "Train Epoch: 18 [12800/60000 (21%)]\tLoss: 0.269220\n",
      "Train Epoch: 18 [19200/60000 (32%)]\tLoss: 0.239575\n",
      "Train Epoch: 18 [25600/60000 (43%)]\tLoss: 0.357412\n",
      "Train Epoch: 18 [32000/60000 (53%)]\tLoss: 0.139708\n",
      "Train Epoch: 18 [38400/60000 (64%)]\tLoss: 0.129151\n",
      "Train Epoch: 18 [44800/60000 (75%)]\tLoss: 0.054495\n",
      "Train Epoch: 18 [51200/60000 (85%)]\tLoss: 0.082953\n",
      "Train Epoch: 18 [57600/60000 (96%)]\tLoss: 0.234096\n",
      "\n",
      "Test set: Average loss: 0.0020, Accuracy: 9609/10000 (96%)\n",
      "\n",
      "Train Epoch: 19 [0/60000 (0%)]\tLoss: 0.118138\n",
      "Train Epoch: 19 [6400/60000 (11%)]\tLoss: 0.138907\n",
      "Train Epoch: 19 [12800/60000 (21%)]\tLoss: 0.100679\n",
      "Train Epoch: 19 [19200/60000 (32%)]\tLoss: 0.220085\n",
      "Train Epoch: 19 [25600/60000 (43%)]\tLoss: 0.088421\n",
      "Train Epoch: 19 [32000/60000 (53%)]\tLoss: 0.278202\n",
      "Train Epoch: 19 [38400/60000 (64%)]\tLoss: 0.132380\n",
      "Train Epoch: 19 [44800/60000 (75%)]\tLoss: 0.093609\n",
      "Train Epoch: 19 [51200/60000 (85%)]\tLoss: 0.010945\n",
      "Train Epoch: 19 [57600/60000 (96%)]\tLoss: 0.059675\n",
      "\n",
      "Test set: Average loss: 0.0019, Accuracy: 9632/10000 (96%)\n"
     ]
    }
   ],
   "execution_count": 9
  },
  {
   "metadata": {
    "ExecuteTime": {
     "end_time": "2024-04-25T15:13:28.778374Z",
     "start_time": "2024-04-25T15:13:28.772428Z"
    }
   },
   "cell_type": "code",
   "source": [
    "# Save the model\n",
    "torch.save(model.state_dict(), 'data/mnist_cnn.pt')"
   ],
   "id": "5b5a3514b216c13c",
   "outputs": [],
   "execution_count": 10
  },
  {
   "metadata": {
    "ExecuteTime": {
     "end_time": "2024-04-25T15:13:31.289811Z",
     "start_time": "2024-04-25T15:13:31.281431Z"
    }
   },
   "cell_type": "code",
   "source": [
    "model.load_state_dict(torch.load('data/mnist_cnn.pt'))"
   ],
   "id": "114dee5fcca8b678",
   "outputs": [
    {
     "data": {
      "text/plain": "<All keys matched successfully>"
     },
     "execution_count": 11,
     "metadata": {},
     "output_type": "execute_result"
    }
   ],
   "execution_count": 11
  },
  {
   "metadata": {},
   "cell_type": "markdown",
   "source": [
    "Loading Canvas\n",
    "----"
   ],
   "id": "e5b3308577e03c85"
  },
  {
   "metadata": {
    "ExecuteTime": {
     "end_time": "2024-04-25T15:13:44.495217Z",
     "start_time": "2024-04-25T15:13:39.478919Z"
    }
   },
   "cell_type": "code",
   "source": [
    "import cv2\n",
    "import numpy as np\n",
    "import torch\n",
    "from torchvision import transforms"
   ],
   "id": "3fbeaa7e978a5c2",
   "outputs": [],
   "execution_count": 12
  },
  {
   "metadata": {
    "ExecuteTime": {
     "end_time": "2024-04-25T15:13:46.497694Z",
     "start_time": "2024-04-25T15:13:46.493895Z"
    }
   },
   "cell_type": "code",
   "source": [
    "# Define the canvas size\n",
    "canvas_width = 500\n",
    "canvas_height = 500\n",
    "# Define the preprocessing transforms\n",
    "transform = transforms.Compose([\n",
    "    transforms.ToPILImage(),\n",
    "    transforms.Grayscale(),\n",
    "    transforms.Resize((28, 28)),\n",
    "    transforms.ToTensor(),\n",
    "    transforms.Normalize((0.5,), (0.5,))\n",
    "])"
   ],
   "id": "d23b3fb818cf6773",
   "outputs": [],
   "execution_count": 13
  },
  {
   "metadata": {
    "is_executing": true,
    "ExecuteTime": {
     "start_time": "2024-04-25T15:13:48.925828Z"
    }
   },
   "cell_type": "code",
   "source": [
    "# Create a window for the canvas\n",
    "cv2.namedWindow(\"Canvas\", cv2.WINDOW_NORMAL)\n",
    "canvas = np.zeros((canvas_height, canvas_width, 3), np.uint8)\n",
    "\n",
    "# Define a flag to indicate when to capture the input\n",
    "capturing = False\n",
    "\n",
    "# Function to handle mouse events\n",
    "def draw(event, x, y, flags, param):\n",
    "    global canvas, capturing\n",
    "\n",
    "    if event == cv2.EVENT_LBUTTONDOWN:\n",
    "        capturing = True\n",
    "\n",
    "    elif event == cv2.EVENT_LBUTTONUP:\n",
    "        capturing = False\n",
    "        # Capture the canvas and preprocess it\n",
    "        canvas_img = cv2.resize(canvas, (28, 28), interpolation=cv2.INTER_AREA)\n",
    "        canvas_img = cv2.bitwise_not(canvas_img)\n",
    "        canvas_tensor = transform(canvas_img)\n",
    "        canvas_tensor = canvas_tensor.unsqueeze(0)\n",
    "\n",
    "        # Perform inference with your CNN model\n",
    "        output = model(canvas_tensor)\n",
    "        prediction = output.max(1, keepdim=True)[1]\n",
    "        print(f\"Predicted: {prediction.item()}\")\n",
    "\n",
    "        # Clear the canvas\n",
    "        canvas = np.zeros((canvas_height, canvas_width, 3), np.uint8)\n",
    "\n",
    "    elif event == cv2.EVENT_MOUSEMOVE:\n",
    "        if capturing:\n",
    "            cv2.circle(canvas, (x, y), 10, (255, 255, 255), -1)\n",
    "\n",
    "# Set the mouse callback function\n",
    "cv2.setMouseCallback(\"Canvas\", draw)\n",
    "\n",
    "# Load your trained CNN model\n",
    "model.load_state_dict(torch.load('data/mnist_cnn.pt'))\n",
    "model.eval()\n",
    "\n",
    "while True:\n",
    "    cv2.imshow(\"Canvas\", canvas)\n",
    "    if cv2.waitKey(1) & 0xFF == ord('q'):\n",
    "        break\n",
    "\n",
    "cv2.destroyAllWindows()"
   ],
   "id": "dd8d3e72059852ff",
   "outputs": [
    {
     "name": "stdout",
     "output_type": "stream",
     "text": [
      "Predicted: 7\n",
      "Predicted: 0\n",
      "Predicted: 0\n"
     ]
    },
    {
     "name": "stderr",
     "output_type": "stream",
     "text": [
      "2024-04-25 16:14:04.291 Python[81327:914695] WARNING: Secure coding is not enabled for restorable state! Enable secure coding by implementing NSApplicationDelegate.applicationSupportsSecureRestorableState: and returning YES.\n"
     ]
    },
    {
     "name": "stdout",
     "output_type": "stream",
     "text": [
      "Predicted: 5\n",
      "Predicted: 3\n",
      "Predicted: 7\n",
      "Predicted: 1\n",
      "Predicted: 1\n",
      "Predicted: 1\n",
      "Predicted: 2\n",
      "Predicted: 2\n",
      "Predicted: 3\n"
     ]
    }
   ],
   "execution_count": null
  },
  {
   "metadata": {},
   "cell_type": "code",
   "source": [],
   "id": "6352a2060d2547c3",
   "outputs": [],
   "execution_count": null
  }
 ],
 "metadata": {
  "kernelspec": {
   "display_name": "Python 3",
   "language": "python",
   "name": "python3"
  },
  "language_info": {
   "codemirror_mode": {
    "name": "ipython",
    "version": 2
   },
   "file_extension": ".py",
   "mimetype": "text/x-python",
   "name": "python",
   "nbconvert_exporter": "python",
   "pygments_lexer": "ipython2",
   "version": "2.7.6"
  }
 },
 "nbformat": 4,
 "nbformat_minor": 5
}

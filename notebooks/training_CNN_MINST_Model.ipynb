{
 "cells": [
  {
   "metadata": {
    "ExecuteTime": {
     "end_time": "2024-04-28T11:17:19.381535Z",
     "start_time": "2024-04-28T11:17:11.013338Z"
    }
   },
   "cell_type": "code",
   "source": [
    "import torch\n",
    "import torch.nn as nn\n",
    "import torch.nn.functional as F\n",
    "import torch.optim as optim\n",
    "from torchvision import datasets, transforms"
   ],
   "id": "9e2d63c4f2c8b9e2",
   "outputs": [],
   "execution_count": 1
  },
  {
   "metadata": {
    "ExecuteTime": {
     "end_time": "2024-04-28T11:17:19.396709Z",
     "start_time": "2024-04-28T11:17:19.385915Z"
    }
   },
   "cell_type": "code",
   "source": [
    "# Define the transformations for the dataset\n",
    "transform = transforms.Compose([\n",
    "    transforms.ToTensor(),\n",
    "    transforms.Normalize((0.1307,), (0.3081,))\n",
    "])"
   ],
   "id": "f0bef36c6c90e3d2",
   "outputs": [],
   "execution_count": 2
  },
  {
   "metadata": {
    "ExecuteTime": {
     "end_time": "2024-04-28T11:17:19.644895Z",
     "start_time": "2024-04-28T11:17:19.399084Z"
    }
   },
   "cell_type": "code",
   "source": [
    "# Load the MNIST dataset\n",
    "train_dataset = datasets.MNIST(root='./data', train=True, download=True, transform=transform)\n",
    "test_dataset = datasets.MNIST(root='./data', train=False, download=True, transform=transform)\n",
    "\n",
    "# Create data loaders\n",
    "batch_size = 64\n",
    "train_loader = torch.utils.data.DataLoader(train_dataset, batch_size=batch_size, shuffle=True)\n",
    "test_loader = torch.utils.data.DataLoader(test_dataset, batch_size=batch_size, shuffle=False)"
   ],
   "id": "205082fb8e262f07",
   "outputs": [],
   "execution_count": 3
  },
  {
   "cell_type": "code",
   "id": "initial_id",
   "metadata": {
    "collapsed": true,
    "ExecuteTime": {
     "end_time": "2024-04-28T11:17:19.657247Z",
     "start_time": "2024-04-28T11:17:19.648406Z"
    }
   },
   "source": [
    "\n",
    "# Define the CNN model\n",
    "class Net(nn.Module):\n",
    "    def __init__(self):\n",
    "        super(Net, self).__init__()\n",
    "        self.conv1 = nn.Conv2d(1, 10, kernel_size=5)\n",
    "        self.conv2 = nn.Conv2d(10, 20, kernel_size=5)\n",
    "        self.conv2_drop = nn.Dropout2d()\n",
    "        self.fc1 = nn.Linear(320, 50)\n",
    "        self.fc2 = nn.Linear(50, 10)\n",
    "\n",
    "    def forward(self, x):\n",
    "        x = F.relu(F.max_pool2d(self.conv1(x), 2))\n",
    "        x = F.relu(F.max_pool2d(self.conv2_drop(self.conv2(x)), 2))\n",
    "        x = x.view(-1, 320)\n",
    "        x = F.relu(self.fc1(x))\n",
    "        x = F.dropout(x, training=self.training)\n",
    "        x = self.fc2(x)\n",
    "        return F.log_softmax(x, dim=1)\n"
   ],
   "outputs": [],
   "execution_count": 4
  },
  {
   "metadata": {
    "ExecuteTime": {
     "end_time": "2024-04-28T11:17:19.720875Z",
     "start_time": "2024-04-28T11:17:19.659590Z"
    }
   },
   "cell_type": "code",
   "source": [
    "# Initialize the model, loss function, and optimizer\n",
    "model = Net()\n",
    "criterion = nn.NLLLoss()\n",
    "optimizer = optim.SGD(model.parameters(), lr=0.01, momentum=0.5)"
   ],
   "id": "318c494e506867e9",
   "outputs": [],
   "execution_count": 5
  },
  {
   "metadata": {
    "ExecuteTime": {
     "end_time": "2024-04-28T11:17:19.729677Z",
     "start_time": "2024-04-28T11:17:19.724111Z"
    }
   },
   "cell_type": "code",
   "source": [
    "# Training loop\n",
    "# epochs = 2\n",
    "# for epoch in range(epochs):\n",
    "#     train_loss = 0.0\n",
    "#     for batch_idx, (data, target) in enumerate(train_loader):\n",
    "#         optimizer.zero_grad()\n",
    "#         output = model(data)\n",
    "#         loss = criterion(output, target)\n",
    "#         loss.backward()\n",
    "#         optimizer.step()\n",
    "#         train_loss += loss.item()\n",
    "#         if batch_idx % 100 == 0:\n",
    "#             print('Train Epoch: {} [{}/{} ({:.0f}%)]\\tLoss: {:.6f}'.format(\n",
    "#                 epoch, batch_idx * len(data), len(train_loader.dataset),\n",
    "#                        100. * batch_idx / len(train_loader), loss.item()))\n",
    "# \n",
    "#     # Evaluate the model on the test set\n",
    "#     test_loss = 0\n",
    "#     correct = 0\n",
    "#     with torch.no_grad():\n",
    "#         for data, target in test_loader:\n",
    "#             output = model(data)\n",
    "#             test_loss += criterion(output, target).item()\n",
    "#             pred = output.max(1, keepdim=True)[1]\n",
    "#             correct += pred.eq(target.view_as(pred)).sum().item()\n",
    "# \n",
    "#     test_loss /= len(test_loader.dataset)\n",
    "#     print('\\nTest set: Average loss: {:.4f}, Accuracy: {}/{} ({:.0f}%)\\n'.format(\n",
    "#         test_loss, correct, len(test_loader.dataset),\n",
    "#         100. * correct / len(test_loader.dataset)))"
   ],
   "id": "c95cb230932792c3",
   "outputs": [],
   "execution_count": 6
  },
  {
   "metadata": {
    "ExecuteTime": {
     "end_time": "2024-04-28T11:17:19.737416Z",
     "start_time": "2024-04-28T11:17:19.733315Z"
    }
   },
   "cell_type": "code",
   "source": [
    "# Save the model\n",
    "# torch.save(model.state_dict(), 'data/mnist_cnn.pt')"
   ],
   "id": "5b5a3514b216c13c",
   "outputs": [],
   "execution_count": 7
  },
  {
   "metadata": {
    "ExecuteTime": {
     "end_time": "2024-04-28T11:17:19.781056Z",
     "start_time": "2024-04-28T11:17:19.740792Z"
    }
   },
   "cell_type": "code",
   "source": [
    "model.load_state_dict(torch.load('data/mnist_cnn.pt'))"
   ],
   "id": "114dee5fcca8b678",
   "outputs": [
    {
     "data": {
      "text/plain": [
       "<All keys matched successfully>"
      ]
     },
     "execution_count": 8,
     "metadata": {},
     "output_type": "execute_result"
    }
   ],
   "execution_count": 8
  },
  {
   "metadata": {},
   "cell_type": "markdown",
   "source": [
    "Loading Canvas\n",
    "----"
   ],
   "id": "e5b3308577e03c85"
  },
  {
   "metadata": {
    "ExecuteTime": {
     "end_time": "2024-04-28T11:17:20.409108Z",
     "start_time": "2024-04-28T11:17:19.783902Z"
    }
   },
   "cell_type": "code",
   "source": [
    "import numpy as np\n",
    "import cv2\n",
    "import torch\n",
    "from torchvision.transforms import transforms"
   ],
   "id": "3fbeaa7e978a5c2",
   "outputs": [],
   "execution_count": 9
  },
  {
   "metadata": {
    "ExecuteTime": {
     "end_time": "2024-04-28T11:17:20.419381Z",
     "start_time": "2024-04-28T11:17:20.414169Z"
    }
   },
   "cell_type": "code",
   "source": [
    "# Define the canvas size\n",
    "canvas_width = 500\n",
    "canvas_height = 500\n",
    "# Define the preprocessing transforms\n",
    "transform = transforms.Compose([\n",
    "    transforms.ToPILImage(),\n",
    "    transforms.Grayscale(),\n",
    "    transforms.Resize((28, 28)),\n",
    "    transforms.ToTensor(),\n",
    "    transforms.Normalize((0.5,), (0.5,))\n",
    "])"
   ],
   "id": "d23b3fb818cf6773",
   "outputs": [],
   "execution_count": 10
  },
  {
   "metadata": {
    "ExecuteTime": {
     "end_time": "2024-04-28T11:18:00.942720Z",
     "start_time": "2024-04-28T11:18:00.933508Z"
    }
   },
   "cell_type": "code",
   "source": [
    "# Function to handle mouse events\n",
    "def draw(event, x, y, flags, param):\n",
    "    global canvas, capturing, model\n",
    "\n",
    "    if event == cv2.EVENT_LBUTTONDOWN:\n",
    "        capturing = True\n",
    "\n",
    "    elif event == cv2.EVENT_LBUTTONUP:\n",
    "        capturing = False\n",
    "        # Capture the canvas and preprocess it\n",
    "        canvas_img = cv2.resize(canvas, (28, 28), interpolation=cv2.INTER_AREA)\n",
    "        canvas_img = cv2.cvtColor(canvas_img, cv2.COLOR_BGR2GRAY)\n",
    "        canvas_img = cv2.bitwise_not(canvas_img)\n",
    "        canvas_tensor = transform(canvas_img)\n",
    "        canvas_tensor = canvas_tensor.unsqueeze(0)\n",
    "\n",
    "        # Perform inference with your CNN model\n",
    "        output = model(canvas_tensor)\n",
    "        prediction = output.max(1, keepdim=True)[1]\n",
    "        pred_text = f\"{prediction.item()}\"\n",
    "        print(pred_text)\n",
    "\n",
    "        # Clear the canvas\n",
    "        canvas = np.zeros((canvas_height, canvas_width, 3), np.uint8)\n",
    "\n",
    "        # Calculate text size and position it in the center\n",
    "        text_size = cv2.getTextSize(pred_text, cv2.FONT_HERSHEY_SIMPLEX, 2, 2)[0]\n",
    "        text_x = (canvas_width - text_size[0]) // 2\n",
    "        text_y = (canvas_height + text_size[1]) // 2\n",
    "\n",
    "        # Write prediction in red back on the canvas\n",
    "        cv2.putText(canvas, pred_text, (text_x, text_y), cv2.FONT_HERSHEY_SIMPLEX, \n",
    "                    2, (0, 0, 255), 2, cv2.LINE_AA)\n",
    "\n",
    "    elif event == cv2.EVENT_MOUSEMOVE:\n",
    "        if capturing:\n",
    "            cv2.circle(canvas, (x, y), 10, (255, 255, 255), -1)"
   ],
   "id": "b197f41afc654dfe",
   "outputs": [],
   "execution_count": 14
  },
  {
   "metadata": {
    "is_executing": true,
    "ExecuteTime": {
     "end_time": "2024-04-28T11:18:01.404767Z",
     "start_time": "2024-04-28T11:18:01.399675Z"
    }
   },
   "cell_type": "code",
   "source": [
    "# Create a window for the canvas\n",
    "cv2.namedWindow(\"Canvas\", cv2.WINDOW_NORMAL)\n",
    "canvas = np.zeros((canvas_height, canvas_width, 3), np.uint8)\n",
    "\n",
    "# Define a flag to indicate when to capture the input\n",
    "capturing = False"
   ],
   "id": "dd8d3e72059852ff",
   "outputs": [],
   "execution_count": 15
  },
  {
   "metadata": {
    "ExecuteTime": {
     "end_time": "2024-04-28T11:20:26.316052Z",
     "start_time": "2024-04-28T11:18:12.990006Z"
    }
   },
   "cell_type": "code",
   "source": [
    "# Set the mouse callback function\n",
    "cv2.setMouseCallback(\"Canvas\", draw)\n",
    "\n",
    "while True:\n",
    "    cv2.imshow(\"Canvas\", canvas)\n",
    "    if cv2.waitKey(1) & 0xFF == ord('q'):\n",
    "        break\n",
    "\n",
    "cv2.destroyAllWindows()"
   ],
   "id": "6352a2060d2547c3",
   "outputs": [
    {
     "name": "stdout",
     "output_type": "stream",
     "text": [
      "1\n",
      "0\n",
      "0\n",
      "8\n",
      "5\n",
      "5\n",
      "0\n",
      "8\n",
      "5\n",
      "7\n",
      "0\n",
      "3\n",
      "4\n",
      "8\n",
      "0\n",
      "0\n",
      "0\n",
      "6\n",
      "9\n",
      "1\n",
      "6\n",
      "5\n",
      "9\n",
      "6\n",
      "8\n",
      "2\n",
      "7\n",
      "7\n",
      "0\n",
      "0\n",
      "2\n",
      "1\n",
      "5\n",
      "5\n",
      "6\n",
      "3\n"
     ]
    },
    {
     "ename": "KeyboardInterrupt",
     "evalue": "",
     "output_type": "error",
     "traceback": [
      "\u001B[0;31m---------------------------------------------------------------------------\u001B[0m",
      "\u001B[0;31mKeyboardInterrupt\u001B[0m                         Traceback (most recent call last)",
      "Cell \u001B[0;32mIn[16], line 6\u001B[0m\n\u001B[1;32m      4\u001B[0m \u001B[38;5;28;01mwhile\u001B[39;00m \u001B[38;5;28;01mTrue\u001B[39;00m:\n\u001B[1;32m      5\u001B[0m     cv2\u001B[38;5;241m.\u001B[39mimshow(\u001B[38;5;124m\"\u001B[39m\u001B[38;5;124mCanvas\u001B[39m\u001B[38;5;124m\"\u001B[39m, canvas)\n\u001B[0;32m----> 6\u001B[0m     \u001B[38;5;28;01mif\u001B[39;00m \u001B[43mcv2\u001B[49m\u001B[38;5;241;43m.\u001B[39;49m\u001B[43mwaitKey\u001B[49m\u001B[43m(\u001B[49m\u001B[38;5;241;43m1\u001B[39;49m\u001B[43m)\u001B[49m \u001B[38;5;241m&\u001B[39m \u001B[38;5;241m0xFF\u001B[39m \u001B[38;5;241m==\u001B[39m \u001B[38;5;28mord\u001B[39m(\u001B[38;5;124m'\u001B[39m\u001B[38;5;124mq\u001B[39m\u001B[38;5;124m'\u001B[39m):\n\u001B[1;32m      7\u001B[0m         \u001B[38;5;28;01mbreak\u001B[39;00m\n\u001B[1;32m      9\u001B[0m cv2\u001B[38;5;241m.\u001B[39mdestroyAllWindows()\n",
      "\u001B[0;31mKeyboardInterrupt\u001B[0m: "
     ]
    }
   ],
   "execution_count": 16
  },
  {
   "metadata": {
    "ExecuteTime": {
     "end_time": "2024-04-28T11:17:54.131532Z",
     "start_time": "2024-04-28T11:17:54.131366Z"
    }
   },
   "cell_type": "code",
   "source": "",
   "id": "950f63ca69fb832",
   "outputs": [],
   "execution_count": null
  }
 ],
 "metadata": {
  "kernelspec": {
   "display_name": "Python 3",
   "language": "python",
   "name": "python3"
  },
  "language_info": {
   "codemirror_mode": {
    "name": "ipython",
    "version": 2
   },
   "file_extension": ".py",
   "mimetype": "text/x-python",
   "name": "python",
   "nbconvert_exporter": "python",
   "pygments_lexer": "ipython2",
   "version": "2.7.6"
  }
 },
 "nbformat": 4,
 "nbformat_minor": 5
}
